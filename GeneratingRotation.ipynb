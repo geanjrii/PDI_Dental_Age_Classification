{
 "cells": [
  {
   "cell_type": "markdown",
   "metadata": {},
   "source": [
    "### Rotation Image Augmentation\n"
   ]
  },
  {
   "cell_type": "code",
   "execution_count": 1,
   "metadata": {},
   "outputs": [
    {
     "name": "stderr",
     "output_type": "stream",
     "text": [
      "2022-06-21 17:04:13.146637: W tensorflow/stream_executor/platform/default/dso_loader.cc:64] Could not load dynamic library 'libcudart.so.11.0'; dlerror: libcudart.so.11.0: cannot open shared object file: No such file or directory; LD_LIBRARY_PATH: /home/manu/anaconda3/lib/python3.9/site-packages/cv2/../../lib64:\n",
      "2022-06-21 17:04:13.147449: I tensorflow/stream_executor/cuda/cudart_stub.cc:29] Ignore above cudart dlerror if you do not have a GPU set up on your machine.\n"
     ]
    }
   ],
   "source": [
    "import os\n",
    "import cv2\n",
    "from numpy import expand_dims\n",
    "from matplotlib import pyplot\n",
    "from tensorflow.keras.preprocessing.image import load_img, ImageDataGenerator, img_to_array, save_img\n",
    "from tensorflow.data import Dataset\n",
    "import pathlib\n",
    "from os import listdir\n",
    "from os.path import join, isfile\n",
    "from scipy import ndimage\n",
    "\n",
    "current_directory = os.getcwd()\n",
    "\n",
    "# img = load_img(current_directory + \"/data/22Under/20201023151105049.jpg\")\n",
    "# print(\"Image Size:\", img.size)\n",
    "# img_data = img_to_array(img)"
   ]
  },
  {
   "cell_type": "code",
   "execution_count": 2,
   "metadata": {},
   "outputs": [],
   "source": [
    "def generateRotationFromDirectory(dir, degrees, save_dir, typename):\n",
    "\n",
    "    files = [f for f in listdir(dir) if isfile(join(dir, f))]\n",
    "    \n",
    "    for file in files:\n",
    "      if (file.lower().endswith(('.jpg'))):\n",
    "\n",
    "        img_path = str(dir.resolve()) + \"/\" +  file\n",
    "        img = load_img(img_path)\n",
    "        img_data = img_to_array(img)\n",
    "        image_rotated = ndimage.rotate(img_data, degrees)\n",
    "\n",
    "        filename = file.replace(\".jpg\", \"\") + typename\n",
    "        save_path = save_dir + filename + \".jpg\"\n",
    "        save_img(save_path, image_rotated)\n"
   ]
  },
  {
   "cell_type": "code",
   "execution_count": 6,
   "metadata": {},
   "outputs": [],
   "source": [
    "\n",
    "minus10_degrees = -10\n",
    "more10_degrees = 10\n",
    "\n",
    "# minus_save_dir = current_directory + \"/DataAugmentation/Rotation/22Under/negativeRotation/\"\n",
    "# more_save_dir = current_directory + \"/DataAugmentation/Rotation/22Under/positiveRotation/\"\n",
    "\n",
    "# data22Under_dir = pathlib.Path(current_directory + \"/DataAugmentation/Original/22Under/\")\n",
    "# generateRotationFromDirectory(data22Under_dir, minus10_degrees, minus_save_dir, \"_negative\")\n",
    "# generateRotationFromDirectory(data22Under_dir, more10_degrees, more_save_dir, \"_positive\")\n",
    "\n",
    "minus_save_dir = current_directory + \"/DataAugmentation/ResolutionLoss-Rotation/22Under/\"\n",
    "more_save_dir = current_directory + \"/DataAugmentation/ResolutionLoss-Rotation/22Under/\"\n",
    "\n",
    "data22OrOver_dir = pathlib.Path(current_directory + \"/DataAugmentation/ResolutionLoss/22Under/\")\n",
    "# generateRotationFromDirectory(data22OrOver_dir, minus10_degrees, minus_save_dir, \"_negative\")\n",
    "generateRotationFromDirectory(data22OrOver_dir, more10_degrees, more_save_dir, \"_positive\")\n",
    "\n",
    "# minus_save_dir = current_directory + \"/DataAugmentation/ResolutionLoss-Rotation/22OrOver/\"\n",
    "# more_save_dir = current_directory + \"/DataAugmentation/ResolutionLoss-Rotation/22OrOver/\"\n",
    "\n",
    "# data22OrOver_dir = pathlib.Path(current_directory + \"/DataAugmentation/ResolutionLoss/22OrOver/\")\n",
    "# generateRotationFromDirectory(data22OrOver_dir, minus10_degrees, minus_save_dir, \"_negative\")\n",
    "# generateRotationFromDirectory(data22OrOver_dir, more10_degrees, more_save_dir, \"_positive\")"
   ]
  }
 ],
 "metadata": {
  "kernelspec": {
   "display_name": "Python 3 (ipykernel)",
   "language": "python",
   "name": "python3"
  },
  "language_info": {
   "codemirror_mode": {
    "name": "ipython",
    "version": 3
   },
   "file_extension": ".py",
   "mimetype": "text/x-python",
   "name": "python",
   "nbconvert_exporter": "python",
   "pygments_lexer": "ipython3",
   "version": "3.9.12"
  },
  "vscode": {
   "interpreter": {
    "hash": "e996ec40ab08574af4321bb5f577ba93c4ccecb17e372071f522b3bd0c1454ea"
   }
  }
 },
 "nbformat": 4,
 "nbformat_minor": 4
}

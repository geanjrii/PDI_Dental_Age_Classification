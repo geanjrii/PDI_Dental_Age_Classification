{
 "cells": [
  {
   "cell_type": "code",
   "execution_count": 196,
   "id": "ccb93d64",
   "metadata": {},
   "outputs": [],
   "source": [
    "import os\n",
    "import glob\n",
    "from PIL import Image, ImageOps\n",
    "import tensorflow as tf\n",
    "import numpy as np"
   ]
  },
  {
   "cell_type": "code",
   "execution_count": 197,
   "id": "9930fa75",
   "metadata": {},
   "outputs": [],
   "source": [
    "current_directory = os.getcwd()\n",
    "path = current_directory + '\\\\DataAugmentation\\\\Original\\\\22Under/'"
   ]
  },
  {
   "cell_type": "code",
   "execution_count": 198,
   "id": "ddc28b14",
   "metadata": {},
   "outputs": [],
   "source": [
    "final_result = []\n",
    "for image in glob.iglob('DataAugmentation/Original/22Under/*.jpg'):\n",
    "    processed_image = Image.open(image)\n",
    "    width, height = processed_image.size\n",
    "    processed_image.thumbnail((224,224))\n",
    "    final_result.append(processed_image)"
   ]
  },
  {
   "cell_type": "code",
   "execution_count": 208,
   "id": "3031621f",
   "metadata": {},
   "outputs": [
    {
     "name": "stdout",
     "output_type": "stream",
     "text": [
      "<PIL.JpegImagePlugin.JpegImageFile image mode=L size=224x123 at 0x1DFD2032FD0>\n"
     ]
    }
   ],
   "source": [
    "print(final_result[0])\n",
    "#None"
   ]
  },
  {
   "cell_type": "code",
   "execution_count": 200,
   "id": "6e907fb0",
   "metadata": {},
   "outputs": [
    {
     "name": "stdout",
     "output_type": "stream",
     "text": [
      "<PIL.Image.Image image mode=L size=1898x1000 at 0x1DFCF4184F0>\n",
      "<PIL.Image.Image image mode=L size=1898x1000 at 0x1DFDE871CD0>\n",
      "<PIL.Image.Image image mode=L size=1898x1000 at 0x1DFDE871D60>\n",
      "<PIL.Image.Image image mode=L size=1898x1000 at 0x1DFD40CC610>\n",
      "<PIL.Image.Image image mode=L size=1898x1000 at 0x1DFD202A7C0>\n",
      "<PIL.Image.Image image mode=L size=1898x1000 at 0x1DFDE6362E0>\n",
      "<PIL.Image.Image image mode=L size=1898x1000 at 0x1DFD40CCB50>\n",
      "<PIL.Image.Image image mode=L size=1898x1000 at 0x1DFD40CCC10>\n",
      "<PIL.Image.Image image mode=L size=1898x1000 at 0x1DFD40CCF70>\n",
      "<PIL.Image.Image image mode=L size=1898x1000 at 0x1DFD8CC68E0>\n",
      "<PIL.Image.Image image mode=L size=1898x1000 at 0x1DFD2032FA0>\n",
      "<PIL.Image.Image image mode=L size=1898x1000 at 0x1DFD2032F10>\n",
      "<PIL.Image.Image image mode=L size=1898x1000 at 0x1DFD2032D30>\n",
      "<PIL.Image.Image image mode=L size=1898x1000 at 0x1DFE0FD3C10>\n",
      "<PIL.Image.Image image mode=L size=1898x1000 at 0x1DFE0FD3F70>\n",
      "<PIL.Image.Image image mode=L size=1898x1000 at 0x1DFE0FD3820>\n",
      "<PIL.Image.Image image mode=L size=1898x1000 at 0x1DFE0FD3FA0>\n",
      "<PIL.Image.Image image mode=L size=1898x1000 at 0x1DFE0FD3EB0>\n",
      "<PIL.Image.Image image mode=L size=1898x1000 at 0x1DFE0FD3D60>\n",
      "<PIL.Image.Image image mode=L size=1898x1000 at 0x1DFD3AF8CA0>\n",
      "<PIL.Image.Image image mode=L size=1898x1000 at 0x1DFD3AF81F0>\n",
      "<PIL.Image.Image image mode=L size=1898x1000 at 0x1DFD3AF82B0>\n",
      "<PIL.Image.Image image mode=L size=1898x1000 at 0x1DFD3AF88E0>\n",
      "<PIL.Image.Image image mode=L size=1898x1000 at 0x1DFD3AF8C40>\n",
      "<PIL.Image.Image image mode=L size=1898x1000 at 0x1DFD3AF8790>\n",
      "<PIL.Image.Image image mode=L size=1898x1000 at 0x1DFD2040BB0>\n",
      "<PIL.Image.Image image mode=L size=1898x1000 at 0x1DFD20402E0>\n",
      "<PIL.Image.Image image mode=L size=1898x1000 at 0x1DFD2040910>\n",
      "<PIL.Image.Image image mode=L size=1898x1000 at 0x1DFD2040880>\n",
      "<PIL.Image.Image image mode=L size=1898x1000 at 0x1DFD2040BE0>\n",
      "<PIL.Image.Image image mode=L size=1898x1000 at 0x1DFD2040940>\n",
      "<PIL.Image.Image image mode=L size=1898x1000 at 0x1DFD2040AC0>\n",
      "<PIL.Image.Image image mode=L size=1898x1000 at 0x1DFD2040DF0>\n",
      "<PIL.Image.Image image mode=L size=1898x1000 at 0x1DFD2040B50>\n",
      "<PIL.Image.Image image mode=L size=1898x1000 at 0x1DFE0FEB0D0>\n",
      "<PIL.Image.Image image mode=L size=1898x1000 at 0x1DFE0FEB520>\n"
     ]
    }
   ],
   "source": [
    "final_result2 = []\n",
    "for image in final_result:\n",
    "    width, height = image.size\n",
    "    image = image.resize((1898,1000))\n",
    "    final_result2.append(image)\n",
    "    print(image)"
   ]
  },
  {
   "cell_type": "code",
   "execution_count": 201,
   "id": "a9d1b006",
   "metadata": {},
   "outputs": [],
   "source": [
    "final_result2[30].show()"
   ]
  },
  {
   "cell_type": "code",
   "execution_count": 202,
   "id": "ebc921b4",
   "metadata": {},
   "outputs": [
    {
     "name": "stdout",
     "output_type": "stream",
     "text": [
      "<PIL.Image.Image image mode=L size=1898x1000 at 0x1DFD202A7C0>\n"
     ]
    }
   ],
   "source": [
    "print(final_result2[4])"
   ]
  },
  {
   "cell_type": "code",
   "execution_count": 203,
   "id": "b10fbc4d",
   "metadata": {},
   "outputs": [],
   "source": [
    "listnames = []\n",
    "for image in os.listdir(path):\n",
    "    listnames.append(image)"
   ]
  },
  {
   "cell_type": "code",
   "execution_count": 204,
   "id": "c29f72a6",
   "metadata": {},
   "outputs": [
    {
     "data": {
      "text/plain": [
       "['20201023151105049.jpg',\n",
       " '20210128155433922.jpg',\n",
       " '20210309142219315.jpg',\n",
       " '20210326150602233.jpg',\n",
       " '20210414163011357.jpg',\n",
       " '20210420163154257.jpg',\n",
       " '20210421162806019.jpg',\n",
       " '20210421165734615.jpg',\n",
       " '20210428141318511.jpg',\n",
       " '20210506171924096.jpg',\n",
       " '20210506173234573.jpg',\n",
       " '20211013152426927.jpg',\n",
       " '20211116144536650.jpg',\n",
       " '20211119115545527.jpg',\n",
       " '20211123144735980.jpg',\n",
       " '20211124163751010.jpg',\n",
       " '20211126090524131.jpg',\n",
       " '20211129170150082.jpg',\n",
       " '20211129171150563.jpg',\n",
       " '20211130152241580.jpg',\n",
       " '20211130164452720.jpg',\n",
       " '20211202174219814.jpg',\n",
       " '20211203105848464.jpg',\n",
       " '20211203112052603.jpg',\n",
       " '20211203120600877.jpg',\n",
       " '20211210143623006.jpg',\n",
       " '20211222153722276.jpg',\n",
       " '20220111101736079.jpg',\n",
       " '20220111164240187.jpg',\n",
       " '20220111182556416.jpg',\n",
       " '20220124142821672.jpg',\n",
       " '20220128121500407.jpg',\n",
       " '20220209164953264.jpg',\n",
       " '20220210150834671.jpg',\n",
       " '20220214174700691.jpg',\n",
       " '20220218144139637.jpg']"
      ]
     },
     "execution_count": 204,
     "metadata": {},
     "output_type": "execute_result"
    }
   ],
   "source": [
    "listnames"
   ]
  },
  {
   "cell_type": "code",
   "execution_count": 205,
   "id": "20a0b4eb",
   "metadata": {},
   "outputs": [],
   "source": [
    "path22orover = current_directory + '\\\\DataAugmentation\\\\ResolutionLoss\\\\22Under/'\n",
    "for i,image in enumerate(final_result2):\n",
    "    image.save(path22orover + listnames[i])"
   ]
  },
  {
   "cell_type": "code",
   "execution_count": 207,
   "id": "aacdcf09",
   "metadata": {},
   "outputs": [
    {
     "name": "stdout",
     "output_type": "stream",
     "text": [
      "teste\n"
     ]
    }
   ],
   "source": [
    "print(\"teste\")"
   ]
  },
  {
   "cell_type": "code",
   "execution_count": null,
   "id": "8d6a9839",
   "metadata": {},
   "outputs": [],
   "source": []
  }
 ],
 "metadata": {
  "kernelspec": {
   "display_name": "Python 3 (ipykernel)",
   "language": "python",
   "name": "python3"
  },
  "language_info": {
   "codemirror_mode": {
    "name": "ipython",
    "version": 3
   },
   "file_extension": ".py",
   "mimetype": "text/x-python",
   "name": "python",
   "nbconvert_exporter": "python",
   "pygments_lexer": "ipython3",
   "version": "3.9.7"
  }
 },
 "nbformat": 4,
 "nbformat_minor": 5
}

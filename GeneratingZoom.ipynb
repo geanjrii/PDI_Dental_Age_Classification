{
 "cells": [
  {
   "cell_type": "markdown",
   "metadata": {},
   "source": [
    "### Zoom Image Augmentation\n"
   ]
  },
  {
   "cell_type": "code",
   "execution_count": 2,
   "metadata": {},
   "outputs": [
    {
     "name": "stderr",
     "output_type": "stream",
     "text": [
      "2022-06-21 18:06:13.267124: W tensorflow/stream_executor/platform/default/dso_loader.cc:64] Could not load dynamic library 'libcudart.so.11.0'; dlerror: libcudart.so.11.0: cannot open shared object file: No such file or directory; LD_LIBRARY_PATH: /home/manu/anaconda3/lib/python3.9/site-packages/cv2/../../lib64:\n",
      "2022-06-21 18:06:13.267394: I tensorflow/stream_executor/cuda/cudart_stub.cc:29] Ignore above cudart dlerror if you do not have a GPU set up on your machine.\n"
     ]
    }
   ],
   "source": [
    "import os\n",
    "import cv2\n",
    "from numpy import expand_dims\n",
    "from matplotlib import pyplot\n",
    "from tensorflow.keras.preprocessing.image import load_img, ImageDataGenerator, img_to_array\n",
    "from tensorflow.data import Dataset\n",
    "import pathlib\n",
    "from os import listdir\n",
    "from os.path import join, isfile\n",
    "\n",
    "current_directory = os.getcwd()\n",
    "\n",
    "# img = load_img(current_directory + \"/data/22Under/20201023151105049.jpg\")\n",
    "# print(\"Image Size:\", img.size)\n",
    "# img_data = img_to_array(img)"
   ]
  },
  {
   "cell_type": "code",
   "execution_count": 3,
   "metadata": {},
   "outputs": [],
   "source": [
    "def generateZoomFromDirectory(dir, z_range, save_dir, typename):\n",
    "\n",
    "    files = [f for f in listdir(dir) if isfile(join(dir, f))]\n",
    "    \n",
    "    for file in files:\n",
    "      if (file.lower().endswith(('.jpg'))):\n",
    "\n",
    "        img_path = str(dir.resolve()) + \"/\" +  file\n",
    "        # print(img_path)\n",
    "        img = load_img(img_path)\n",
    "        img_data = img_to_array(img)\n",
    "        img_sample = expand_dims(img_data, 0)\n",
    "\n",
    "        # create image data augmentation generator\n",
    "        zoom_in_datagen = ImageDataGenerator(zoom_range=z_range)\n",
    "\n",
    "        filename = file.replace(\".jpg\", \"\") + typename\n",
    "        for batch in zoom_in_datagen.flow(img_sample, \n",
    "            batch_size=1,\n",
    "            save_to_dir=save_dir, \n",
    "            save_prefix=filename, \n",
    "            save_format='jpg'):\n",
    "\n",
    "            break"
   ]
  },
  {
   "cell_type": "code",
   "execution_count": 5,
   "metadata": {},
   "outputs": [],
   "source": [
    "zoom_in_range = [0.9,0.9] # (+) 10% => Zoom In (Ampliar)\n",
    "zoom_out_range = [1.1,1.1] # (-) 10% => Zoom Out (Reduzir)\n",
    "\n",
    "# zin_save_dir = current_directory + \"/DataAugmentation/Zoom/22Under/ZoomIn\"\n",
    "# zout_save_dir = current_directory + \"/DataAugmentation/Zoom/22Under/ZoomOut\"\n",
    "\n",
    "# data22Under_dir = pathlib.Path(current_directory + \"/DataAugmentation/Original/22Under/\")\n",
    "# generateZoomFromDirectory(data22Under_dir, zoom_in_range, zin_save_dir, \"zoom_in\")\n",
    "# generateZoomFromDirectory(data22Under_dir, zoom_out_range, zout_save_dir, \"zoom_out\")\n",
    "\n",
    "# zin_save_dir = current_directory + \"/DataAugmentation/Zoom/22OrOver/ZoomIn\"\n",
    "# zout_save_dir = current_directory + \"/DataAugmentation/Zoom/22OrOver/ZoomOut\"\n",
    "\n",
    "# data22OrOver_dir = pathlib.Path(current_directory + \"/DataAugmentation/Original/22OrOver/\")\n",
    "# generateZoomFromDirectory(data22OrOver_dir, zoom_in_range, zin_save_dir, \"zoom_in\")\n",
    "# generateZoomFromDirectory(data22OrOver_dir, zoom_out_range, zout_save_dir, \"zoom_out\")\n",
    "\n",
    "# save_dir = current_directory + \"/DataAugmentation/ResolutionLoss-Zoom/22OrOver/\"\n",
    "save_dir = current_directory + \"/DataAugmentation/ResolutionLoss-Zoom/22Under/\"\n",
    "\n",
    "# data_dir = pathlib.Path(current_directory + \"/DataAugmentation/ResolutionLoss/22OrOver/\")\n",
    "data_dir = pathlib.Path(current_directory + \"/DataAugmentation/ResolutionLoss/22Under/\")\n",
    "# generateZoomFromDirectory(data_dir, zoom_in_range, save_dir, \"zoom_in\")\n",
    "generateZoomFromDirectory(data_dir, zoom_out_range, save_dir, \"zoom_out\")\n"
   ]
  }
 ],
 "metadata": {
  "kernelspec": {
   "display_name": "Python 3 (ipykernel)",
   "language": "python",
   "name": "python3"
  },
  "language_info": {
   "codemirror_mode": {
    "name": "ipython",
    "version": 3
   },
   "file_extension": ".py",
   "mimetype": "text/x-python",
   "name": "python",
   "nbconvert_exporter": "python",
   "pygments_lexer": "ipython3",
   "version": "3.9.12"
  },
  "vscode": {
   "interpreter": {
    "hash": "e996ec40ab08574af4321bb5f577ba93c4ccecb17e372071f522b3bd0c1454ea"
   }
  }
 },
 "nbformat": 4,
 "nbformat_minor": 4
}
